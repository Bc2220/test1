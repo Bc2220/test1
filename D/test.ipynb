{
 "metadata": {
  "language_info": {
   "codemirror_mode": {
    "name": "ipython",
    "version": 3
   },
   "file_extension": ".py",
   "mimetype": "text/x-python",
   "name": "python",
   "nbconvert_exporter": "python",
   "pygments_lexer": "ipython3",
   "version": "3.8.3-final"
  },
  "orig_nbformat": 2,
  "kernelspec": {
   "name": "Python 3.8.3 64-bit ('base': conda)",
   "display_name": "Python 3.8.3 64-bit ('base': conda)",
   "metadata": {
    "interpreter": {
     "hash": "bdf73a8440500698af473a01551e486cfc9861a92fc2ae78c36dbdd8442c861f"
    }
   }
  }
 },
 "nbformat": 4,
 "nbformat_minor": 2,
 "cells": [
  {
   "cell_type": "code",
   "execution_count": 5,
   "metadata": {},
   "outputs": [],
   "source": [
    "# Dependencies\n",
    "from bs4 import BeautifulSoup\n",
    "import requests\n",
    "import re"
   ]
  },
  {
   "cell_type": "code",
   "execution_count": 2,
   "metadata": {},
   "outputs": [
    {
     "output_type": "stream",
     "name": "stdout",
     "text": [
      "https://preview.redd.it/koxkb7lra3u51.jpg?width=640&crop=smart&auto=webp&s=6d8cbbfca66a8ef5e707c64fbff82b6325ee102a\n"
     ]
    }
   ],
   "source": [
    "headers = {'user-agent': 'Mozilla/5.0'}\n",
    "page = requests.get(\"https://www.reddit.com/r/MemeEconomy/\",headers=headers)\n",
    "soup = BeautifulSoup(page.content,'html.parser')\n",
    "\n",
    "imgs = soup.findAll('img', attrs={'alt':'Post image'})\n",
    "\n",
    "imglist = []\n",
    "for img in imgs:\n",
    "    link_src = img.get('src')\n",
    "    imglist.append(link_src)\n",
    "\n",
    "print(imglist[1])"
   ]
  },
  {
   "cell_type": "code",
   "execution_count": 3,
   "metadata": {},
   "outputs": [
    {
     "output_type": "stream",
     "name": "stdout",
     "text": [
      "\n\n\n\n\nAccess to this page has been denied.\n\n\n\n\n\n\n\n\n\n\n\n\n\n\nPlease verify you are a human\n\n\n\n\n\n\n\n                Access to this page has been denied because we believe you are using automation tools to browse the\n                website.\n            \n\n                This may happen as a result of the following:\n            \n\n\n                    Javascript is disabled or blocked by an extension (ad blockers for example)\n                \n\n                    Your browser does not support cookies\n                \n\n\n                Please make sure that Javascript and cookies are enabled on your browser and that you are not blocking\n                them from loading.\n            \n\n                Reference ID: #4c8a3940-135f-11eb-b7c2-29a0c558f140\n            \n\n\n\n\n\n                Powered by\n                PerimeterX\n                , Inc.\n            \n\n\n\n\n\n\n\n\n\n\n"
     ]
    }
   ],
   "source": [
    "#Set up list\n",
    "gallery = \"gallery&400\"\n",
    "UIC = 'UIC'\n",
    "chicago = 'chicago'\n",
    "usa = 'usa'\n",
    "\n",
    "#get number\n",
    "number = 40\n",
    "\n",
    "#move through list\n",
    "search = UIC\n",
    "article = []\n",
    "results = 100 # valid options 10, 20, 30, 40, 50, and 100\n",
    "page = requests.get(f\"https://www.google.com/search?q={search}&num={results}\")\n",
    "soup = BeautifulSoup(page.content, \"html.parser\")\n",
    "links = soup.findAll(\"a\")\n",
    "\n",
    "for link in links :\n",
    "    link_href = link.get('href')\n",
    "    if \"url?q=\" in link_href and not \"webcache\" in link_href:\n",
    "        article.append((link.get('href').split(\"?q=\")[1].split(\"&sa=U\")[0]))\n",
    "\n",
    "page = requests.get(f'{article[number]}')\n",
    "soup = BeautifulSoup(page.text, 'html.parser')\n",
    "print(soup.text)"
   ]
  },
  {
   "cell_type": "code",
   "execution_count": null,
   "metadata": {},
   "outputs": [],
   "source": []
  }
 ]
}